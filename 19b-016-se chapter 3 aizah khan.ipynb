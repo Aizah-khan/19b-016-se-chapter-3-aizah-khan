{
 "cells": [
  {
   "cell_type": "markdown",
   "metadata": {},
   "source": [
    "# problems chapter 3"
   ]
  },
  {
   "cell_type": "code",
   "execution_count": 46,
   "metadata": {},
   "outputs": [
    {
     "name": "stdout",
     "output_type": "stream",
     "text": [
      "enter the current temperature in degree fahrenheit: 40\n",
      "temperature in degree celsius : 4.444444444444445\n"
     ]
    }
   ],
   "source": [
    "#PROBLEM 3.1\n",
    "fahrenheit = eval(input('enter the current temperature in degree fahrenheit: '))\n",
    "celsius =5/9*(fahrenheit-32)\n",
    "print('temperature in degree celsius :' , celsius)\n",
    "\n"
   ]
  },
  {
   "cell_type": "code",
   "execution_count": 47,
   "metadata": {},
   "outputs": [
    {
     "name": "stdout",
     "output_type": "stream",
     "text": [
      "enter your age :76\n",
      "you can get your pension benifits\n"
     ]
    }
   ],
   "source": [
    "#PROBLEM 3.2 \n",
    "#(A)\n",
    "age= eval(input('enter your age :'))\n",
    "\n",
    "if age>62:\n",
    "    print('you can get your pension benifits')\n"
   ]
  },
  {
   "cell_type": "code",
   "execution_count": 48,
   "metadata": {},
   "outputs": [
    {
     "name": "stdout",
     "output_type": "stream",
     "text": [
      "enter the hits :10\n",
      "enter the shields :0\n"
     ]
    }
   ],
   "source": [
    "#(C)\n",
    "hits=eval(input('enter the hits :'))\n",
    "shield=(input('enter the shields :'))\n",
    "if hits>10 and shield==0:\n",
    "    print('you are dead....')"
   ]
  },
  {
   "cell_type": "code",
   "execution_count": 49,
   "metadata": {},
   "outputs": [
    {
     "name": "stdout",
     "output_type": "stream",
     "text": [
      "enter year :2020\n",
      "could be a leap year \n"
     ]
    }
   ],
   "source": [
    "#PROBLEM 3.3 (a)\n",
    "year=eval(input('enter year :'))\n",
    "if year % 4 == 0:\n",
    "    print('could be a leap year ')\n",
    "else:\n",
    "    print('definitely not a leap year ')\n"
   ]
  },
  {
   "cell_type": "code",
   "execution_count": 50,
   "metadata": {},
   "outputs": [
    {
     "name": "stdout",
     "output_type": "stream",
     "text": [
      "You won!\n"
     ]
    }
   ],
   "source": [
    "#(b)\n",
    "lottery = 5\n",
    "ticket = 5\n",
    "if ticket == lottery:\n",
    "    print('You won!')\n",
    "else: \n",
    "    print('Better luck next time.') "
   ]
  },
  {
   "cell_type": "code",
   "execution_count": 51,
   "metadata": {},
   "outputs": [
    {
     "name": "stdout",
     "output_type": "stream",
     "text": [
      "enter login :hani\n",
      "YOU ARE IN!!\n",
      "done\n"
     ]
    }
   ],
   "source": [
    "#PROBLEM 3.4\n",
    "users=['joe','hani','sophie','sue']\n",
    "user_id=input('enter login :')\n",
    "if user_id in users:\n",
    "    print('YOU ARE IN!!')\n",
    "else:\n",
    "        print('user not found')\n",
    "print('done')"
   ]
  },
  {
   "cell_type": "code",
   "execution_count": 52,
   "metadata": {},
   "outputs": [
    {
     "name": "stdout",
     "output_type": "stream",
     "text": [
      "enter word list :'read','work'\n",
      "word\n",
      "word\n"
     ]
    }
   ],
   "source": [
    "#PROBLEM 3.5\n",
    "wordlist=eval(input(\"enter word list :\"))\n",
    "for word in wordlist:\n",
    "    if len(word)==4:\n",
    "        print ('word')\n"
   ]
  },
  {
   "cell_type": "code",
   "execution_count": 53,
   "metadata": {},
   "outputs": [
    {
     "name": "stdout",
     "output_type": "stream",
     "text": [
      "0\n",
      "1\n",
      "2\n",
      "3\n",
      "4\n",
      "5\n",
      "6\n",
      "7\n",
      "8\n"
     ]
    }
   ],
   "source": [
    "#PROBLEM 3.6\n",
    "numbers = ['0','1','2','3','4','5','6','7','8','9']\n",
    "for i in range(0,9):\n",
    "    print(i)\n"
   ]
  },
  {
   "cell_type": "code",
   "execution_count": 54,
   "metadata": {},
   "outputs": [
    {
     "name": "stdout",
     "output_type": "stream",
     "text": [
      "0\n"
     ]
    }
   ],
   "source": [
    "#(B)\n",
    "numbers = ['0','1']\n",
    "for i in range(0,1):\n",
    "    print(i)\n"
   ]
  },
  {
   "cell_type": "code",
   "execution_count": 55,
   "metadata": {},
   "outputs": [
    {
     "name": "stdout",
     "output_type": "stream",
     "text": [
      "3\n",
      "4\n",
      "5\n",
      "6\n",
      "7\n",
      "8\n",
      "9\n",
      "10\n",
      "11\n",
      "12\n",
      "0\n",
      "3\n",
      "6\n",
      "9\n",
      "12\n",
      "15\n",
      "18\n",
      "21\n",
      "0\n",
      "2\n",
      "4\n",
      "6\n",
      "8\n",
      "3\n",
      "8\n"
     ]
    }
   ],
   "source": [
    "#problem 3.7\n",
    "for i in range (3,13):\n",
    "    print(i)\n",
    "for i in range (0,24,3):\n",
    "    print(i)\n",
    "for i in range (0,10,2):\n",
    "    print(i)\n",
    "for i in range (3,12,5):\n",
    "    print(i)"
   ]
  },
  {
   "cell_type": "code",
   "execution_count": 56,
   "metadata": {},
   "outputs": [
    {
     "name": "stdout",
     "output_type": "stream",
     "text": [
      "enter number 1 :2\n",
      "enter number 2 :3\n"
     ]
    },
    {
     "data": {
      "text/plain": [
       "3.5"
      ]
     },
     "execution_count": 56,
     "metadata": {},
     "output_type": "execute_result"
    }
   ],
   "source": [
    "#PROBLEM 3.9\n",
    "n1=int(input('enter number 1 :'))\n",
    "n2=int(input('enter number 2 :'))\n",
    "def average():\n",
    "    a=n1+n2/2\n",
    "    return a\n",
    "    print('the average is :' , a)\n",
    "average()\n",
    "    "
   ]
  },
  {
   "cell_type": "code",
   "execution_count": 63,
   "metadata": {},
   "outputs": [
    {
     "name": "stdout",
     "output_type": "stream",
     "text": [
      "The Perimeter is:  22.25\n"
     ]
    }
   ],
   "source": [
    "#PROBLEM 3.8\n",
    "from math import pi\n",
    "r=5\n",
    "def perimeter(r):\n",
    "    return (2 *pi*r)\n",
    "print(\"The Perimeter is: \",p)"
   ]
  },
  {
   "cell_type": "code",
   "execution_count": 61,
   "metadata": {},
   "outputs": [],
   "source": [
    "#PROBLEM 3.10:\n",
    "def novowel(s):\n",
    "    'return TRUE if string s contains no vowel , FALSE otherwise'\n",
    "    for c in s:\n",
    "        if c in 'aeiouAEIOU':\n",
    "            return FALSE \n",
    "    return TRUE"
   ]
  },
  {
   "cell_type": "code",
   "execution_count": 62,
   "metadata": {},
   "outputs": [
    {
     "ename": "TypeError",
     "evalue": "'int' object is not iterable",
     "output_type": "error",
     "traceback": [
      "\u001b[1;31m---------------------------------------------------------------------------\u001b[0m",
      "\u001b[1;31mTypeError\u001b[0m                                 Traceback (most recent call last)",
      "\u001b[1;32m<ipython-input-62-c468a56eefe8>\u001b[0m in \u001b[0;36m<module>\u001b[1;34m\u001b[0m\n\u001b[0;32m      6\u001b[0m             \u001b[1;32mreturn\u001b[0m \u001b[0mfalse\u001b[0m\u001b[1;33m\u001b[0m\u001b[1;33m\u001b[0m\u001b[0m\n\u001b[0;32m      7\u001b[0m             \u001b[1;32mreturn\u001b[0m \u001b[0mtrue\u001b[0m\u001b[1;33m\u001b[0m\u001b[1;33m\u001b[0m\u001b[0m\n\u001b[1;32m----> 8\u001b[1;33m \u001b[0malleven\u001b[0m\u001b[1;33m(\u001b[0m\u001b[1;36m2\u001b[0m\u001b[1;33m)\u001b[0m\u001b[1;33m\u001b[0m\u001b[1;33m\u001b[0m\u001b[0m\n\u001b[0m",
      "\u001b[1;32m<ipython-input-62-c468a56eefe8>\u001b[0m in \u001b[0;36malleven\u001b[1;34m(numlist)\u001b[0m\n\u001b[0;32m      2\u001b[0m \u001b[1;32mdef\u001b[0m \u001b[0malleven\u001b[0m\u001b[1;33m(\u001b[0m\u001b[0mnumlist\u001b[0m\u001b[1;33m)\u001b[0m\u001b[1;33m:\u001b[0m\u001b[1;33m\u001b[0m\u001b[1;33m\u001b[0m\u001b[0m\n\u001b[0;32m      3\u001b[0m     \u001b[1;34m'return true if all integers in numlist are even , false otherwise'\u001b[0m\u001b[1;33m\u001b[0m\u001b[1;33m\u001b[0m\u001b[0m\n\u001b[1;32m----> 4\u001b[1;33m     \u001b[1;32mfor\u001b[0m \u001b[0mnum\u001b[0m \u001b[1;32min\u001b[0m \u001b[0mnumlist\u001b[0m\u001b[1;33m:\u001b[0m\u001b[1;33m\u001b[0m\u001b[1;33m\u001b[0m\u001b[0m\n\u001b[0m\u001b[0;32m      5\u001b[0m         \u001b[1;32mif\u001b[0m \u001b[0mnum\u001b[0m\u001b[1;33m%\u001b[0m\u001b[1;36m2\u001b[0m \u001b[1;33m!=\u001b[0m\u001b[1;36m0\u001b[0m\u001b[1;33m:\u001b[0m\u001b[1;33m\u001b[0m\u001b[1;33m\u001b[0m\u001b[0m\n\u001b[0;32m      6\u001b[0m             \u001b[1;32mreturn\u001b[0m \u001b[0mfalse\u001b[0m\u001b[1;33m\u001b[0m\u001b[1;33m\u001b[0m\u001b[0m\n",
      "\u001b[1;31mTypeError\u001b[0m: 'int' object is not iterable"
     ]
    }
   ],
   "source": [
    "#PROBLEM 3.11\n",
    "def alleven(numlist):\n",
    "    'return true if all integers in numlist are even , false otherwise'\n",
    "    for num in numlist:\n",
    "        if num%2 !=0:\n",
    "            return false\n",
    "            return true\n",
    "alleven(2)"
   ]
  },
  {
   "cell_type": "code",
   "execution_count": 64,
   "metadata": {},
   "outputs": [
    {
     "name": "stdout",
     "output_type": "stream",
     "text": [
      "['Sarah', 'Eleanor', 'Clare', 'Ava']\n"
     ]
    }
   ],
   "source": [
    "#prolem 3.15\n",
    "team = ['Ava','Eleanor','Clare','Sarah']\n",
    "team[0],team[-1] = team[-1],team[0]\n",
    "print(team)"
   ]
  },
  {
   "cell_type": "code",
   "execution_count": 65,
   "metadata": {},
   "outputs": [
    {
     "name": "stdout",
     "output_type": "stream",
     "text": [
      "Enter Your Value: 4\n",
      "Enter Your Value: 8\n",
      "The Total Value is:  33\n"
     ]
    }
   ],
   "source": [
    "#problem 3.17\n",
    "a = eval(input(\"Enter Your Value: \"))\n",
    "b = eval(input(\"Enter Your Value: \"))\n",
    "c= a*b+1\n",
    "print(\"The Total Value is: \",c)"
   ]
  },
  {
   "cell_type": "code",
   "execution_count": 66,
   "metadata": {},
   "outputs": [
    {
     "name": "stdout",
     "output_type": "stream",
     "text": [
      "The Iterate form Jan\n",
      "The Iterate form Feb\n",
      "The Iterate form Mar\n"
     ]
    }
   ],
   "source": [
    "#problem 3.20\n",
    "lst = ['January', 'February', 'March']\n",
    "for i in lst:\n",
    "    print(\"The Iterate form\",i[:3])"
   ]
  },
  {
   "cell_type": "code",
   "execution_count": 67,
   "metadata": {},
   "outputs": [
    {
     "name": "stdout",
     "output_type": "stream",
     "text": [
      "2\n",
      "4\n",
      "6\n",
      "8\n"
     ]
    }
   ],
   "source": [
    "#problem 3.21\n",
    "lst = [2, 3, 4, 5, 6, 7, 8, 9]\n",
    "for i in lst:\n",
    "    if i%2==0:\n",
    "        print(i)"
   ]
  },
  {
   "cell_type": "code",
   "execution_count": null,
   "metadata": {},
   "outputs": [],
   "source": [
    "#PROBLEM 3.24\n",
    "wordlist=eval(input(\"enter words list :\"))\n",
    "for word in wordlist:\n",
    "    if word!='secret':\n",
    "        print ('word')\n"
   ]
  },
  {
   "cell_type": "code",
   "execution_count": 3,
   "metadata": {},
   "outputs": [
    {
     "name": "stdout",
     "output_type": "stream",
     "text": [
      "Enter list of students['ellie','steve','sam','owen','gavin']\n",
      "ellie\n",
      "ellie\n",
      "ellie\n",
      "ellie\n",
      "ellie\n",
      "steve\n",
      "steve\n",
      "sam\n",
      "sam\n",
      "owen\n",
      "gavin\n",
      "gavin\n",
      "gavin\n"
     ]
    }
   ],
   "source": [
    "#problem 3.25\n",
    "students = eval(input(\"Enter list of students\"))\n",
    "for names in students:\n",
    "    for letters in names:\n",
    "        if letters in 'abcdefghijklmABCDEFGHIJKLM':\n",
    "              print(names)"
   ]
  },
  {
   "cell_type": "code",
   "execution_count": 5,
   "metadata": {},
   "outputs": [
    {
     "name": "stdout",
     "output_type": "stream",
     "text": [
      "Enter list of students['ellie','steve','sam','owen','gavin']\n"
     ]
    }
   ],
   "source": [
    "#PROBLEM 3.26\n",
    "students= input(\"Enter list of students\")\n",
    "for name in students:\n",
    "    if name[0] in 'ABCDEFGHI':\n",
    "        print(name)"
   ]
  },
  {
   "cell_type": "code",
   "execution_count": 6,
   "metadata": {},
   "outputs": [
    {
     "name": "stdout",
     "output_type": "stream",
     "text": [
      "enter words list :'cia','secret','mi6','isi','secret'\n",
      "word\n",
      "word\n",
      "word\n"
     ]
    }
   ],
   "source": [
    "#PROBLEM 3.24\n",
    "wordlist=eval(input(\"enter words list :\"))\n",
    "for word in wordlist:\n",
    "    if word!='secret':\n",
    "        print ('word')\n"
   ]
  },
  {
   "cell_type": "code",
   "execution_count": 7,
   "metadata": {},
   "outputs": [
    {
     "name": "stdout",
     "output_type": "stream",
     "text": [
      "Enter Your List Numbers : 2 4 6 8 10 12\n",
      "The First Element is:  2\n",
      "The Last Element is:  12\n"
     ]
    }
   ],
   "source": [
    "#PROBLEM 3.26\n",
    "list=(input(\"Enter Your List Numbers : \")).split()\n",
    "print(\"The First Element is: \",list[0])\n",
    "print(\"The Last Element is: \",list[-1])"
   ]
  },
  {
   "cell_type": "code",
   "execution_count": 10,
   "metadata": {},
   "outputs": [
    {
     "name": "stdout",
     "output_type": "stream",
     "text": [
      "enter a number: 9\n",
      "0\n",
      "9\n",
      "18\n",
      "27\n"
     ]
    }
   ],
   "source": [
    "#PROBLEM 3.27\n",
    "number = int(input('enter a number: '))\n",
    "for i in range(4):\n",
    "    print(number*i)"
   ]
  },
  {
   "cell_type": "code",
   "execution_count": 15,
   "metadata": {},
   "outputs": [
    {
     "name": "stdout",
     "output_type": "stream",
     "text": [
      "enter a number:2\n",
      "0\n",
      "1\n"
     ]
    }
   ],
   "source": [
    "#PROBLEM 3..28\n",
    "number = int(input('enter a number:'))\n",
    "for i in range (0,number):\n",
    "    if i!=2:\n",
    "        square=i**2\n",
    "        print(i)"
   ]
  },
  {
   "cell_type": "code",
   "execution_count": 25,
   "metadata": {},
   "outputs": [
    {
     "name": "stdout",
     "output_type": "stream",
     "text": [
      "Enter Number : 4.5\n",
      "Enter Number : 3\n",
      "Enter Number : 3\n",
      "Enter Number : 3.5\n"
     ]
    }
   ],
   "source": [
    "#PROBLEM 3.30\n",
    "\n",
    "n1 =float(input(\"Enter Number : \"))\n",
    "n2 =float(input(\"Enter Number : \"))\n",
    "n3 =float(input(\"Enter Number : \"))\n",
    "n4 =float(input(\"Enter Number : \"))\n",
    "if (n1+n2+n3)/4==n4:\n",
    "    print(\"Equal\")\n"
   ]
  },
  {
   "cell_type": "code",
   "execution_count": 27,
   "metadata": {},
   "outputs": [
    {
     "name": "stdout",
     "output_type": "stream",
     "text": [
      "enter x component:2.5\n",
      "enter y component:4\n"
     ]
    }
   ],
   "source": [
    "#PROBLEM 3.31\n",
    "#R=radius and center is denoted by c1 and c2\n",
    "x=float(input('enter x component:'))\n",
    "y=float(input('enter y component:'))\n",
    "R=8\n",
    "c1=0\n",
    "c2=0\n",
    "p=(x-c1)**2+(y-c2)**2\n",
    "if p<R:\n",
    "    print(\"It is in\")"
   ]
  },
  {
   "cell_type": "code",
   "execution_count": 30,
   "metadata": {},
   "outputs": [
    {
     "name": "stdout",
     "output_type": "stream",
     "text": [
      "enter positive integers:23456\n",
      "2\n",
      "3\n",
      "4\n",
      "5\n",
      "6\n"
     ]
    }
   ],
   "source": [
    "#PROBLEM 3.32\n",
    "a =input('enter positive integers:')\n",
    "a.split()\n",
    "for i in a:\n",
    "    print(i)\n",
    "\n"
   ]
  },
  {
   "cell_type": "code",
   "execution_count": 33,
   "metadata": {},
   "outputs": [
    {
     "name": "stdout",
     "output_type": "stream",
     "text": [
      "MAJ\n"
     ]
    }
   ],
   "source": [
    "#PROBLEM 3.33\n",
    "def my_function(x):\n",
    "    return x[::-1]\n",
    "\n",
    "my_string = my_function(\"JAM\")\n",
    "\n",
    "print(my_string)\n"
   ]
  },
  {
   "cell_type": "code",
   "execution_count": null,
   "metadata": {},
   "outputs": [],
   "source": [
    "#PROBLEM 3.34\n",
    "\n"
   ]
  },
  {
   "cell_type": "code",
   "execution_count": 34,
   "metadata": {},
   "outputs": [
    {
     "name": "stdout",
     "output_type": "stream",
     "text": [
      "the probablity of heads in a row is:  0.5\n"
     ]
    }
   ],
   "source": [
    "#PROBLEM 3.35\n",
    "def prob(num):\n",
    "    x=1/2**num\n",
    "    return x\n",
    "print(\"the probablity of heads in a row is: \",prob(1))"
   ]
  },
  {
   "cell_type": "code",
   "execution_count": 35,
   "metadata": {},
   "outputs": [
    {
     "name": "stdout",
     "output_type": "stream",
     "text": [
      "321\n"
     ]
    }
   ],
   "source": [
    "#PROBLEM 3.36\n",
    "def my_function(x):\n",
    "    return x[::-1]\n",
    "\n",
    "my_string = my_function(\"123\")\n",
    "\n",
    "print(my_string)\n"
   ]
  },
  {
   "cell_type": "code",
   "execution_count": 37,
   "metadata": {},
   "outputs": [
    {
     "data": {
      "text/plain": [
       "'fri'"
      ]
     },
     "execution_count": 37,
     "metadata": {},
     "output_type": "execute_result"
    }
   ],
   "source": [
    "#PROBLEM 3.38\n",
    "def my_string(a):\n",
    "    x=a[0:3]\n",
    "    return(x)\n",
    "my_string('friday')\n"
   ]
  },
  {
   "cell_type": "code",
   "execution_count": 38,
   "metadata": {},
   "outputs": [
    {
     "name": "stdout",
     "output_type": "stream",
     "text": [
      "Enter list of soccer players:['Eleanor','Evelyn','Sammy','Owen','Gavin']\n",
      "Eleanor\n",
      "Eleanor\n",
      "Eleanor\n",
      "Eleanor\n",
      "Evelyn\n",
      "Evelyn\n",
      "Evelyn\n",
      "Sammy\n",
      "Sammy\n",
      "Sammy\n",
      "Owen\n",
      "Gavin\n",
      "Gavin\n",
      "Gavin\n"
     ]
    }
   ],
   "source": [
    "#PROBLEM 3.40\n",
    "soccer_players = eval(input(\"Enter list of soccer players:\"))\n",
    "for names in soccer_players:\n",
    "    for letters in names:\n",
    "        if letters in 'abcdefghijklmABCDEFGHIJKLM':\n",
    "              print(names)\n"
   ]
  },
  {
   "cell_type": "code",
   "execution_count": 44,
   "metadata": {},
   "outputs": [
    {
     "name": "stdout",
     "output_type": "stream",
     "text": [
      "enter your first name:aizah\n",
      "enter your last name:khan\n"
     ]
    },
    {
     "ename": "NameError",
     "evalue": "name 'Lname' is not defined",
     "output_type": "error",
     "traceback": [
      "\u001b[1;31m---------------------------------------------------------------------------\u001b[0m",
      "\u001b[1;31mNameError\u001b[0m                                 Traceback (most recent call last)",
      "\u001b[1;32m<ipython-input-44-52c81956eea2>\u001b[0m in \u001b[0;36m<module>\u001b[1;34m\u001b[0m\n\u001b[0;32m      6\u001b[0m     \u001b[1;32mreturn\u001b[0m \u001b[1;33m(\u001b[0m\u001b[0mx\u001b[0m\u001b[1;33m)\u001b[0m\u001b[1;33m\u001b[0m\u001b[1;33m\u001b[0m\u001b[0m\n\u001b[0;32m      7\u001b[0m     \u001b[0mprint\u001b[0m\u001b[1;33m(\u001b[0m\u001b[0mx\u001b[0m\u001b[1;33m)\u001b[0m\u001b[1;33m\u001b[0m\u001b[1;33m\u001b[0m\u001b[0m\n\u001b[1;32m----> 8\u001b[1;33m \u001b[0mlastf\u001b[0m\u001b[1;33m(\u001b[0m\u001b[0mx\u001b[0m\u001b[1;33m)\u001b[0m\u001b[1;33m\u001b[0m\u001b[1;33m\u001b[0m\u001b[0m\n\u001b[0m",
      "\u001b[1;32m<ipython-input-44-52c81956eea2>\u001b[0m in \u001b[0;36mlastf\u001b[1;34m(x)\u001b[0m\n\u001b[0;32m      3\u001b[0m     \u001b[0mfname\u001b[0m\u001b[1;33m=\u001b[0m\u001b[0minput\u001b[0m\u001b[1;33m(\u001b[0m\u001b[1;34m'enter your first name:'\u001b[0m\u001b[1;33m)\u001b[0m\u001b[1;33m\u001b[0m\u001b[1;33m\u001b[0m\u001b[0m\n\u001b[0;32m      4\u001b[0m     \u001b[0mlname\u001b[0m\u001b[1;33m=\u001b[0m\u001b[0minput\u001b[0m\u001b[1;33m(\u001b[0m\u001b[1;34m'enter your last name:'\u001b[0m\u001b[1;33m)\u001b[0m\u001b[1;33m\u001b[0m\u001b[1;33m\u001b[0m\u001b[0m\n\u001b[1;32m----> 5\u001b[1;33m     \u001b[0mx\u001b[0m\u001b[1;33m=\u001b[0m\u001b[0mfname\u001b[0m\u001b[1;33m+\u001b[0m\u001b[1;34m' '\u001b[0m\u001b[1;33m+\u001b[0m\u001b[0mLname\u001b[0m\u001b[1;33m[\u001b[0m\u001b[1;36m0\u001b[0m\u001b[1;33m]\u001b[0m\u001b[1;33m+\u001b[0m\u001b[1;34m'.'\u001b[0m\u001b[1;33m\u001b[0m\u001b[1;33m\u001b[0m\u001b[0m\n\u001b[0m\u001b[0;32m      6\u001b[0m     \u001b[1;32mreturn\u001b[0m \u001b[1;33m(\u001b[0m\u001b[0mx\u001b[0m\u001b[1;33m)\u001b[0m\u001b[1;33m\u001b[0m\u001b[1;33m\u001b[0m\u001b[0m\n\u001b[0;32m      7\u001b[0m     \u001b[0mprint\u001b[0m\u001b[1;33m(\u001b[0m\u001b[0mx\u001b[0m\u001b[1;33m)\u001b[0m\u001b[1;33m\u001b[0m\u001b[1;33m\u001b[0m\u001b[0m\n",
      "\u001b[1;31mNameError\u001b[0m: name 'Lname' is not defined"
     ]
    }
   ],
   "source": [
    "#PROBLEM 3.41\n",
    "def lastf(x):\n",
    "    fname=input('enter your first name:')\n",
    "    lname=input('enter your last name:')\n",
    "    x=fname+' '+Lname[0]+'.'\n",
    "    return (x)\n",
    "    print(x)\n",
    "lastf(x)"
   ]
  },
  {
   "cell_type": "code",
   "execution_count": 45,
   "metadata": {},
   "outputs": [
    {
     "name": "stdout",
     "output_type": "stream",
     "text": [
      "The distance is:  1.0208700000000002\n"
     ]
    }
   ],
   "source": [
    "#PROBLEM 3.44\n",
    "def distance(t):\n",
    "    x=(340.29)*t\n",
    "    return(x)\n",
    "print(\"The distance is: \",distance(3/1000))"
   ]
  },
  {
   "cell_type": "code",
   "execution_count": null,
   "metadata": {},
   "outputs": [],
   "source": []
  }
 ],
 "metadata": {
  "kernelspec": {
   "display_name": "Python 3",
   "language": "python",
   "name": "python3"
  },
  "language_info": {
   "codemirror_mode": {
    "name": "ipython",
    "version": 3
   },
   "file_extension": ".py",
   "mimetype": "text/x-python",
   "name": "python",
   "nbconvert_exporter": "python",
   "pygments_lexer": "ipython3",
   "version": "3.7.3"
  }
 },
 "nbformat": 4,
 "nbformat_minor": 2
}
